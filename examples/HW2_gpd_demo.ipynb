{
 "cells": [
  {
   "cell_type": "code",
   "execution_count": 25,
   "metadata": {},
   "outputs": [],
   "source": [
    "import glob\n",
    "import geopandas as gpd\n",
    "import pandas as pd\n",
    "\n",
    "from matplotlib import pyplot as plt\n",
    "from shapely import Point\n"
   ]
  },
  {
   "cell_type": "code",
   "execution_count": 23,
   "metadata": {},
   "outputs": [
    {
     "data": {
      "text/html": [
       "<div>\n",
       "<style scoped>\n",
       "    .dataframe tbody tr th:only-of-type {\n",
       "        vertical-align: middle;\n",
       "    }\n",
       "\n",
       "    .dataframe tbody tr th {\n",
       "        vertical-align: top;\n",
       "    }\n",
       "\n",
       "    .dataframe thead th {\n",
       "        text-align: right;\n",
       "    }\n",
       "</style>\n",
       "<table border=\"1\" class=\"dataframe\">\n",
       "  <thead>\n",
       "    <tr style=\"text-align: right;\">\n",
       "      <th></th>\n",
       "      <th>ID</th>\n",
       "      <th>river</th>\n",
       "      <th>post</th>\n",
       "      <th>area_fact</th>\n",
       "      <th>area_gis</th>\n",
       "      <th>arror</th>\n",
       "      <th>arror_proc</th>\n",
       "      <th>geometry</th>\n",
       "      <th>Id</th>\n",
       "    </tr>\n",
       "  </thead>\n",
       "  <tbody>\n",
       "    <tr>\n",
       "      <th>0</th>\n",
       "      <td>78138.0</td>\n",
       "      <td>Хопер</td>\n",
       "      <td>Балашов</td>\n",
       "      <td>14300.0</td>\n",
       "      <td>14446.775786</td>\n",
       "      <td>146.775786</td>\n",
       "      <td>1.026404</td>\n",
       "      <td>POLYGON ((44.85965 52.87847, 44.88029 52.86375...</td>\n",
       "      <td>NaN</td>\n",
       "    </tr>\n",
       "    <tr>\n",
       "      <th>0</th>\n",
       "      <td>78135.0</td>\n",
       "      <td>Хопер</td>\n",
       "      <td>Пановка</td>\n",
       "      <td>932.0</td>\n",
       "      <td>1074.738603</td>\n",
       "      <td>142.738603</td>\n",
       "      <td>15.315301</td>\n",
       "      <td>POLYGON ((44.85965 52.87847, 44.88029 52.86375...</td>\n",
       "      <td>NaN</td>\n",
       "    </tr>\n",
       "    <tr>\n",
       "      <th>0</th>\n",
       "      <td>78141.0</td>\n",
       "      <td>Хопер</td>\n",
       "      <td>Поворино</td>\n",
       "      <td>19100.0</td>\n",
       "      <td>19244.942935</td>\n",
       "      <td>144.942935</td>\n",
       "      <td>0.758864</td>\n",
       "      <td>POLYGON ((44.85965 52.87847, 44.88029 52.86375...</td>\n",
       "      <td>NaN</td>\n",
       "    </tr>\n",
       "    <tr>\n",
       "      <th>0</th>\n",
       "      <td>NaN</td>\n",
       "      <td>Которосль</td>\n",
       "      <td>Гаврилов Ям</td>\n",
       "      <td>4980.0</td>\n",
       "      <td>4882.623193</td>\n",
       "      <td>-97.376807</td>\n",
       "      <td>-1.955358</td>\n",
       "      <td>MULTIPOLYGON (((40.37984 57.13152, 40.38100 57...</td>\n",
       "      <td>75225.0</td>\n",
       "    </tr>\n",
       "    <tr>\n",
       "      <th>0</th>\n",
       "      <td>78054.0</td>\n",
       "      <td>Сосна</td>\n",
       "      <td>Елец</td>\n",
       "      <td>16300.0</td>\n",
       "      <td>16319.018221</td>\n",
       "      <td>19.018221</td>\n",
       "      <td>0.116676</td>\n",
       "      <td>POLYGON ((38.69035 52.54832, 38.66514 52.52569...</td>\n",
       "      <td>NaN</td>\n",
       "    </tr>\n",
       "  </tbody>\n",
       "</table>\n",
       "</div>"
      ],
      "text/plain": [
       "        ID      river         post  area_fact      area_gis       arror  \\\n",
       "0  78138.0      Хопер      Балашов    14300.0  14446.775786  146.775786   \n",
       "0  78135.0      Хопер      Пановка      932.0   1074.738603  142.738603   \n",
       "0  78141.0      Хопер     Поворино    19100.0  19244.942935  144.942935   \n",
       "0      NaN  Которосль  Гаврилов Ям     4980.0   4882.623193  -97.376807   \n",
       "0  78054.0      Сосна         Елец    16300.0  16319.018221   19.018221   \n",
       "\n",
       "   arror_proc                                           geometry       Id  \n",
       "0    1.026404  POLYGON ((44.85965 52.87847, 44.88029 52.86375...      NaN  \n",
       "0   15.315301  POLYGON ((44.85965 52.87847, 44.88029 52.86375...      NaN  \n",
       "0    0.758864  POLYGON ((44.85965 52.87847, 44.88029 52.86375...      NaN  \n",
       "0   -1.955358  MULTIPOLYGON (((40.37984 57.13152, 40.38100 57...  75225.0  \n",
       "0    0.116676  POLYGON ((38.69035 52.54832, 38.66514 52.52569...      NaN  "
      ]
     },
     "metadata": {},
     "output_type": "display_data"
    }
   ],
   "source": [
    "files = glob.glob ('../datasets/DDR/watersheds/*.shp')\n",
    "\n",
    "dfs = [gpd.read_file(file).to_crs('WGS 84') for file in files]\n",
    "df = pd.concat(dfs)\n",
    "display(df)\n"
   ]
  },
  {
   "cell_type": "code",
   "execution_count": 30,
   "metadata": {},
   "outputs": [
    {
     "data": {
      "text/plain": [
       "[False, False, False, False, True]"
      ]
     },
     "metadata": {},
     "output_type": "display_data"
    },
    {
     "data": {
      "text/html": [
       "<div>\n",
       "<style scoped>\n",
       "    .dataframe tbody tr th:only-of-type {\n",
       "        vertical-align: middle;\n",
       "    }\n",
       "\n",
       "    .dataframe tbody tr th {\n",
       "        vertical-align: top;\n",
       "    }\n",
       "\n",
       "    .dataframe thead th {\n",
       "        text-align: right;\n",
       "    }\n",
       "</style>\n",
       "<table border=\"1\" class=\"dataframe\">\n",
       "  <thead>\n",
       "    <tr style=\"text-align: right;\">\n",
       "      <th></th>\n",
       "      <th>ID</th>\n",
       "      <th>river</th>\n",
       "      <th>post</th>\n",
       "      <th>area_fact</th>\n",
       "      <th>area_gis</th>\n",
       "      <th>arror</th>\n",
       "      <th>arror_proc</th>\n",
       "      <th>geometry</th>\n",
       "      <th>Id</th>\n",
       "    </tr>\n",
       "  </thead>\n",
       "  <tbody>\n",
       "    <tr>\n",
       "      <th>0</th>\n",
       "      <td>78054.0</td>\n",
       "      <td>Сосна</td>\n",
       "      <td>Елец</td>\n",
       "      <td>16300.0</td>\n",
       "      <td>16319.018221</td>\n",
       "      <td>19.018221</td>\n",
       "      <td>0.116676</td>\n",
       "      <td>POLYGON ((38.69035 52.54832, 38.66514 52.52569...</td>\n",
       "      <td>NaN</td>\n",
       "    </tr>\n",
       "  </tbody>\n",
       "</table>\n",
       "</div>"
      ],
      "text/plain": [
       "        ID  river  post  area_fact      area_gis      arror  arror_proc  \\\n",
       "0  78054.0  Сосна  Елец    16300.0  16319.018221  19.018221    0.116676   \n",
       "\n",
       "                                            geometry  Id  \n",
       "0  POLYGON ((38.69035 52.54832, 38.66514 52.52569... NaN  "
      ]
     },
     "execution_count": 30,
     "metadata": {},
     "output_type": "execute_result"
    },
    {
     "data": {
      "image/png": "[encoded data removed]",
      "text/plain": [
       "<Figure size 640x480 with 1 Axes>"
      ]
     },
     "metadata": {},
     "output_type": "display_data"
    }
   ],
   "source": [
    "p = Point(37.5, 52)\n",
    "\n",
    "ax = df.plot ()\n",
    "plt.plot(p.x, p.y, 'or')\n",
    "for poly in df['geometry']:\n",
    "    bd = poly.bounds\n",
    "    plt.plot([bd[0], bd[0], bd[2], bd[2], bd[0]], [bd[1], bd[3], bd[3], bd[1], bd[1]], '-r')\n",
    "\n",
    "p_inside = [poly.contains(p) for poly in df['geometry']]\n",
    "\n",
    "display(p_inside)\n",
    "df[p_inside]"
   ]
  }
 ],
 "metadata": {
  "kernelspec": {
   "display_name": "GIS",
   "language": "python",
   "name": "python3"
  },
  "language_info": {
   "codemirror_mode": {
    "name": "ipython",
    "version": 3
   },
   "file_extension": ".py",
   "mimetype": "text/x-python",
   "name": "python",
   "nbconvert_exporter": "python",
   "pygments_lexer": "ipython3",
   "version": "3.12.3"
  }
 },
 "nbformat": 4,
 "nbformat_minor": 2
}
