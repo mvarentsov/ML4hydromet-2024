{
  "cells": [
    {
      "cell_type": "markdown",
      "metadata": {
        "id": "34gWDace_nCv"
      },
      "source": [
        "# Технические средства анализа данных\n",
        "\n",
        "### Полезные ссылки:\n",
        "\n",
        "<a href=\"https://www.anaconda.com/download\">Anaconda distribution</a>\n",
        "<br/><br/>\n",
        "<a href=\"https://code.visualstudio.com/docs/?dv=win64user\">VS Code</a> - VS Code IDE<br/>\n",
        "<a href=\"https://www.jetbrains.com/pycharm/\">PyCharm</a> - PyCharm  IDE<br/>\n",
        "<a href=\"https://colab.research.google.com/\">Google Colab</a> - Google Colab<br/>\n",
        "\n",
        "<br /><br />\n",
        "<a href=\"https://numpy.org/\">Numpy documentation</a><br />\n",
        "<a href=\"https://pandas.pydata.org/\">Pandas documentation</a><br />\n",
        "<a href=\"https://matplotlib.org/\">Matplotlib documentation</a>\n",
        "<a href=\"https://scikit-learn.org/stable/\">sklearn documentation</a><br />\n",
        "\n",
        "### Дополнительные материалы:\n",
        "\n",
        "[Codeium, AI-помощник в написании кода](https://codeium.com/)<br />\n",
        "AI-помощники на основе ChatGPT (ищите сами что больше нравится)<br />\n",
        "[stackoverflow](https://stackoverflow.com/)<br />\n",
        "[pythontutor](https://pythontutor.ru/)<br />\n"
      ]
    },
    {
      "cell_type": "code",
      "execution_count": null,
      "metadata": {
        "id": "zhcbdCy-_nCz",
        "outputId": "4072789b-e71c-4a36-a2e0-e661aa774a1a"
      },
      "outputs": [
        {
          "name": "stdout",
          "output_type": "stream",
          "text": [
            "hello world!\n"
          ]
        }
      ],
      "source": [
        "print ('hello world of ML!')"
      ]
    },
    {
      "cell_type": "markdown",
      "metadata": {
        "id": "JuBxSgih_nC2"
      },
      "source": [
        "### Базовые типы данных\n",
        "\n",
        "- Числовые типы\n",
        "- Логический (boolean)\n",
        "- None\n",
        "\n",
        "Любые переменные являются объектами своих классов!\n"
      ]
    },
    {
      "cell_type": "code",
      "execution_count": 10,
      "metadata": {
        "id": "zZliVXyv_nC3",
        "outputId": "4bef1014-f9d8-4379-e113-db184934498d",
        "colab": {
          "base_uri": "https://localhost:8080/"
        }
      },
      "outputs": [
        {
          "output_type": "execute_result",
          "data": {
            "text/plain": [
              "3"
            ]
          },
          "metadata": {},
          "execution_count": 10
        }
      ],
      "source": [
        "a = 3.14\n",
        "b = 3\n",
        "\n",
        "c = b\n",
        "\n",
        "c = 5\n",
        "\n",
        "e = int (a)\n",
        "e"
      ]
    },
    {
      "cell_type": "markdown",
      "metadata": {
        "id": "mvXSRpOl_nC3"
      },
      "source": [
        "### Строки (str)"
      ]
    },
    {
      "cell_type": "code",
      "execution_count": 20,
      "metadata": {
        "id": "RjOgl4ra_nC3",
        "outputId": "7faf8365-b9fc-4ff0-9208-4249b112b370",
        "colab": {
          "base_uri": "https://localhost:8080/",
          "height": 36
        }
      },
      "outputs": [
        {
          "output_type": "execute_result",
          "data": {
            "text/plain": [
              "'Hello meteorology and hydrology'"
            ],
            "application/vnd.google.colaboratory.intrinsic+json": {
              "type": "string"
            }
          },
          "metadata": {},
          "execution_count": 20
        }
      ],
      "source": [
        "str = 'Hello meteorology!'\n",
        "\n",
        "str1 = str.replace('!','') + ' and hydrology'\n",
        "str1\n"
      ]
    },
    {
      "cell_type": "markdown",
      "metadata": {
        "id": "7Txmvfiv_nC4"
      },
      "source": [
        "### Базовые структуры (контейнеры) данных\n",
        "\n",
        "\n",
        "- **Кортеж (tuple)** - неизменяемая упорядоченная коллекция (последовательность) элементов.\n",
        "- **Список [list]** - изменяемая упорядоченная коллеция (последовательность) элементов\n",
        "- **Множество {set}** - неупорядоченная коллекция уникальных элементов\n",
        "- **Словарь {dict}** - неупорядоченная коллекция элементов с доступом по ключу. Ключами должны быть скалярные типы (int, float, str) или кортежи."
      ]
    },
    {
      "cell_type": "code",
      "execution_count": null,
      "metadata": {
        "id": "8o6SWPli_nC4"
      },
      "outputs": [],
      "source": [
        "tup = (1, 2, 3, 3, 3)\n",
        "a,b,c,d = tup"
      ]
    },
    {
      "cell_type": "markdown",
      "source": [],
      "metadata": {
        "id": "e3uqtSJjDkka"
      }
    },
    {
      "cell_type": "code",
      "source": [
        "l1 = list (range (0,20))\n",
        "\n",
        "l2 = list (l1)\n",
        "\n",
        "l2[0] = 1000\n",
        "\n",
        "display(l1)\n",
        "display(l2)\n",
        "\n",
        "display (l1 is l2)\n"
      ],
      "metadata": {
        "id": "c7lCB5VuHVV2",
        "outputId": "8f1da36b-4eff-4dbb-98ce-48fb049b59d5",
        "colab": {
          "base_uri": "https://localhost:8080/",
          "height": 69
        }
      },
      "execution_count": 35,
      "outputs": [
        {
          "output_type": "display_data",
          "data": {
            "text/plain": [
              "[0, 1, 2, 3, 4, 5, 6, 7, 8, 9, 10, 11, 12, 13, 14, 15, 16, 17, 18, 19]"
            ]
          },
          "metadata": {}
        },
        {
          "output_type": "display_data",
          "data": {
            "text/plain": [
              "[1000, 1, 2, 3, 4, 5, 6, 7, 8, 9, 10, 11, 12, 13, 14, 15, 16, 17, 18, 19]"
            ]
          },
          "metadata": {}
        },
        {
          "output_type": "display_data",
          "data": {
            "text/plain": [
              "False"
            ]
          },
          "metadata": {}
        }
      ]
    },
    {
      "cell_type": "code",
      "source": [
        "config {'model':'WRF', 'exp_name': 'Moscow', 'version':5, 'draw_plots':False}\n"
      ],
      "metadata": {
        "id": "Zz1hCNClI1q_",
        "outputId": "6dab5207-6c6f-45de-9896-075e979ccf79",
        "colab": {
          "base_uri": "https://localhost:8080/",
          "height": 34
        }
      },
      "execution_count": 41,
      "outputs": [
        {
          "output_type": "display_data",
          "data": {
            "text/plain": [
              "{'cat': 'Пафнутий', 'dog': 'Шарик', 'bird': 'Олег'}"
            ]
          },
          "metadata": {}
        }
      ]
    },
    {
      "cell_type": "code",
      "source": [
        "s1 = {'aaa', 'bb', 'cc'}\n",
        "s2 = {'aaa', 'WRF', 'COSMO'}\n",
        "#display(sorted(s))\n",
        "#test = 13 in s\n",
        "#display(test)\n",
        "\n",
        "display (s2.difference(s1))"
      ],
      "metadata": {
        "id": "bycsUjjDKfhn",
        "outputId": "11fa9b7b-d208-40db-cd9a-f439d1c0f825",
        "colab": {
          "base_uri": "https://localhost:8080/",
          "height": 34
        }
      },
      "execution_count": 54,
      "outputs": [
        {
          "output_type": "display_data",
          "data": {
            "text/plain": [
              "{'COSMO', 'WRF'}"
            ]
          },
          "metadata": {}
        }
      ]
    },
    {
      "cell_type": "markdown",
      "metadata": {
        "id": "5ynWy_Vi_nC5"
      },
      "source": [
        "### Управление порядком исполнения\n",
        "- условные операторы\n",
        "- циклы\n",
        "- генераторы (например range)\n",
        "- функции"
      ]
    },
    {
      "cell_type": "code",
      "execution_count": null,
      "metadata": {
        "id": "Cy8oJM82_nC5"
      },
      "outputs": [],
      "source": []
    },
    {
      "cell_type": "markdown",
      "metadata": {
        "id": "yJ94Fq_o_nC5"
      },
      "source": [
        "### Дата и время"
      ]
    },
    {
      "cell_type": "code",
      "execution_count": 56,
      "metadata": {
        "id": "5tFKzOrB_nC6",
        "outputId": "dd3c640b-a079-40a4-f381-960a595c1301",
        "colab": {
          "base_uri": "https://localhost:8080/",
          "height": 69
        }
      },
      "outputs": [
        {
          "output_type": "display_data",
          "data": {
            "text/plain": [
              "datetime.datetime"
            ]
          },
          "metadata": {}
        },
        {
          "output_type": "display_data",
          "data": {
            "text/plain": [
              "datetime.timedelta"
            ]
          },
          "metadata": {}
        },
        {
          "output_type": "display_data",
          "data": {
            "text/plain": [
              "32.868493150684934"
            ]
          },
          "metadata": {}
        }
      ],
      "source": [
        "from datetime import datetime\n",
        "\n",
        "now = datetime.now()\n",
        "\n",
        "birthday = datetime(1991, 12, 4, 0, 0, 0)\n",
        "age = now - birthday\n",
        "display(type (now))\n",
        "display(type (age))\n",
        "\n",
        "\n",
        "\n",
        "display(age.days / 365)\n"
      ]
    },
    {
      "cell_type": "markdown",
      "metadata": {
        "id": "ZFSsknZz_nC6"
      },
      "source": [
        "### Синтаксичесий сахар\n",
        "- вычисления на списках\n",
        "- маппинг (map) - применение функции ко всем элементам перечислимого аргумента\n",
        "- лямбда-фунции\n",
        "- упаковка (zip)"
      ]
    },
    {
      "cell_type": "code",
      "execution_count": 61,
      "metadata": {
        "id": "sw62C1Qf_nC7",
        "outputId": "03cfb851-ad10-4250-82ff-b0093e2718b2",
        "colab": {
          "base_uri": "https://localhost:8080/",
          "height": 225
        }
      },
      "outputs": [
        {
          "output_type": "display_data",
          "data": {
            "text/plain": [
              "['2010-01-01 00:00',\n",
              " '2010-02-01 00:00',\n",
              " '2010-03-01 00:00',\n",
              " '2010-04-01 00:00',\n",
              " '2010-05-01 00:00',\n",
              " '2010-06-01 00:00',\n",
              " '2010-07-01 00:00',\n",
              " '2010-08-01 00:00',\n",
              " '2010-09-01 00:00',\n",
              " '2010-10-01 00:00',\n",
              " '2010-11-01 00:00',\n",
              " '2010-12-01 00:00']"
            ]
          },
          "metadata": {}
        }
      ],
      "source": [
        "dates = [datetime(2010,x,1) for x in range(1,13)]\n",
        "#display(dates)\n",
        "display([date.strftime('%Y-%m-%d %H:%M') for date in dates])"
      ]
    },
    {
      "cell_type": "code",
      "execution_count": 66,
      "metadata": {
        "id": "kR5pUT01_nC8",
        "outputId": "66ac6a8d-b7e2-44fe-c73d-804c745670f8",
        "colab": {
          "base_uri": "https://localhost:8080/"
        }
      },
      "outputs": [
        {
          "output_type": "stream",
          "name": "stdout",
          "text": [
            "0 hello0 of 10\n",
            "1 hello1 of 10\n",
            "2 hello2 of 10\n",
            "3 hello3 of 10\n",
            "4 hello4 of 10\n",
            "5 hello5 of 10\n",
            "6 hello6 of 10\n",
            "7 hello7 of 10\n",
            "8 hello8 of 10\n",
            "9 hello9 of 10\n"
          ]
        }
      ],
      "source": [
        "numbers = list (range(0,10))\n",
        "\n",
        "words = ['hello' + '%d of %d'%(n,len(numbers)) for n in numbers]\n",
        "\n",
        "#for n, word in zip (numbers, words):\n",
        "#    print (n, word)\n",
        "\n",
        "for i, word in enumerate (words):\n",
        "    print (i, word)\n"
      ]
    },
    {
      "cell_type": "code",
      "execution_count": 70,
      "metadata": {
        "id": "HpKb-r1e_nC8",
        "outputId": "2ecf48ff-cc96-495e-b4e3-7da34d681ab8",
        "colab": {
          "base_uri": "https://localhost:8080/"
        }
      },
      "outputs": [
        {
          "output_type": "execute_result",
          "data": {
            "text/plain": [
              "['hello0',\n",
              " 'hello01',\n",
              " 'hello012',\n",
              " 'hello0123',\n",
              " 'hello01234',\n",
              " 'hello012345',\n",
              " 'hello0123456',\n",
              " 'hello01234567',\n",
              " 'hello012345678',\n",
              " 'hello0123456789']"
            ]
          },
          "metadata": {},
          "execution_count": 70
        }
      ],
      "source": [
        "import math\n",
        "\n",
        "#numbers2 = map (math.sqrt, numbers)\n",
        "\n",
        "#words1 = map (lambda n: 'hello' + '%d'%n, numbers)\n",
        "words1 = map (lambda n: 'hello' + ''.join (['%d'%nn for nn in range(n+1)]), numbers)\n",
        "list(words1)"
      ]
    },
    {
      "cell_type": "markdown",
      "metadata": {
        "id": "nq-Jqs5l_nC9"
      },
      "source": [
        "### Чуть-чуть Numpy и случайных чисел"
      ]
    },
    {
      "cell_type": "code",
      "execution_count": 84,
      "metadata": {
        "id": "V1m4Rli0_nC-",
        "outputId": "89908bb2-4909-4d98-fd11-a116b87a3cac",
        "colab": {
          "base_uri": "https://localhost:8080/",
          "height": 332
        }
      },
      "outputs": [
        {
          "output_type": "error",
          "ename": "AttributeError",
          "evalue": "module 'numpy' has no attribute 'eps'",
          "traceback": [
            "\u001b[0;31m---------------------------------------------------------------------------\u001b[0m",
            "\u001b[0;31mAttributeError\u001b[0m                            Traceback (most recent call last)",
            "\u001b[0;32m<ipython-input-84-bd68b6f6c52d>\u001b[0m in \u001b[0;36m<cell line: 3>\u001b[0;34m()\u001b[0m\n\u001b[1;32m      1\u001b[0m \u001b[0;32mimport\u001b[0m \u001b[0mnumpy\u001b[0m \u001b[0;32mas\u001b[0m \u001b[0mnp\u001b[0m\u001b[0;34m\u001b[0m\u001b[0;34m\u001b[0m\u001b[0m\n\u001b[1;32m      2\u001b[0m \u001b[0;34m\u001b[0m\u001b[0m\n\u001b[0;32m----> 3\u001b[0;31m \u001b[0mnp\u001b[0m\u001b[0;34m.\u001b[0m\u001b[0mrandom\u001b[0m\u001b[0;34m.\u001b[0m\u001b[0mseed\u001b[0m\u001b[0;34m(\u001b[0m\u001b[0;36m1\u001b[0m \u001b[0;34m+\u001b[0m \u001b[0mnp\u001b[0m\u001b[0;34m.\u001b[0m\u001b[0meps\u001b[0m\u001b[0;34m)\u001b[0m\u001b[0;34m\u001b[0m\u001b[0;34m\u001b[0m\u001b[0m\n\u001b[0m\u001b[1;32m      4\u001b[0m \u001b[0marr1\u001b[0m \u001b[0;34m=\u001b[0m \u001b[0mnp\u001b[0m\u001b[0;34m.\u001b[0m\u001b[0mrandom\u001b[0m\u001b[0;34m.\u001b[0m\u001b[0mrand\u001b[0m\u001b[0;34m(\u001b[0m\u001b[0;36m10\u001b[0m\u001b[0;34m,\u001b[0m\u001b[0;36m10\u001b[0m\u001b[0;34m)\u001b[0m \u001b[0;31m#uniform distribution\u001b[0m\u001b[0;34m\u001b[0m\u001b[0;34m\u001b[0m\u001b[0m\n\u001b[1;32m      5\u001b[0m \u001b[0marr2\u001b[0m \u001b[0;34m=\u001b[0m \u001b[0mnp\u001b[0m\u001b[0;34m.\u001b[0m\u001b[0mrandom\u001b[0m\u001b[0;34m.\u001b[0m\u001b[0mnormal\u001b[0m\u001b[0;34m(\u001b[0m\u001b[0msize\u001b[0m\u001b[0;34m=\u001b[0m\u001b[0;34m(\u001b[0m\u001b[0;36m10\u001b[0m\u001b[0;34m,\u001b[0m\u001b[0;36m10\u001b[0m\u001b[0;34m)\u001b[0m\u001b[0;34m)\u001b[0m \u001b[0;31m#normal distribution\u001b[0m\u001b[0;34m\u001b[0m\u001b[0;34m\u001b[0m\u001b[0m\n",
            "\u001b[0;32m/usr/local/lib/python3.10/dist-packages/numpy/__init__.py\u001b[0m in \u001b[0;36m__getattr__\u001b[0;34m(attr)\u001b[0m\n\u001b[1;32m    331\u001b[0m             \u001b[0;32mraise\u001b[0m \u001b[0mRuntimeError\u001b[0m\u001b[0;34m(\u001b[0m\u001b[0;34m\"Tester was removed in NumPy 1.25.\"\u001b[0m\u001b[0;34m)\u001b[0m\u001b[0;34m\u001b[0m\u001b[0;34m\u001b[0m\u001b[0m\n\u001b[1;32m    332\u001b[0m \u001b[0;34m\u001b[0m\u001b[0m\n\u001b[0;32m--> 333\u001b[0;31m         raise AttributeError(\"module {!r} has no attribute \"\n\u001b[0m\u001b[1;32m    334\u001b[0m                              \"{!r}\".format(__name__, attr))\n\u001b[1;32m    335\u001b[0m \u001b[0;34m\u001b[0m\u001b[0m\n",
            "\u001b[0;31mAttributeError\u001b[0m: module 'numpy' has no attribute 'eps'"
          ]
        }
      ],
      "source": [
        "import numpy as np\n",
        "\n",
        "np.random.seed(1) # + np.eps)\n",
        "arr1 = np.random.rand(10,10) #uniform distribution\n",
        "arr2 = np.random.normal(size=(10,10)) #normal distribution\n",
        "\n",
        "display(arr1)\n",
        "#display(arr1.ndim)\n",
        "#display(arr2)\n",
        "\n",
        "#display(arr1.mean(axis = 0))\n",
        "#display(arr2.mean())\n",
        "\n",
        "#display(arr1.std())\n",
        "#display(arr2.std())"
      ]
    },
    {
      "cell_type": "markdown",
      "metadata": {
        "id": "kyu6SkjH_nC_"
      },
      "source": [
        "### Случайное блуждание и наш первый график"
      ]
    },
    {
      "cell_type": "code",
      "execution_count": 87,
      "metadata": {
        "id": "ILlt8GL9_nC_",
        "outputId": "68862dd8-e03e-4a04-e7f4-464c938fa022",
        "colab": {
          "base_uri": "https://localhost:8080/",
          "height": 452
        }
      },
      "outputs": [
        {
          "output_type": "execute_result",
          "data": {
            "text/plain": [
              "[<matplotlib.lines.Line2D at 0x796d24c9e8c0>]"
            ]
          },
          "metadata": {},
          "execution_count": 87
        },
        {
          "output_type": "display_data",
          "data": {
            "text/plain": [
              "<Figure size 640x480 with 1 Axes>"
            ],
            "image/png": "[encoded data removed]"
          },
          "metadata": {}
        }
      ],
      "source": [
        "from matplotlib import pyplot as plt\n",
        "\n",
        "steps = np.random.normal(size=1000)\n",
        "\n",
        "pos = np.cumsum(steps)\n",
        "\n",
        "plt.figure()\n",
        "plt.plot (pos)\n",
        "plt.plot (np.convolve(pos, np.ones(50)/50, 'same'))\n"
      ]
    }
  ],
  "metadata": {
    "kernelspec": {
      "display_name": "base",
      "language": "python",
      "name": "python3"
    },
    "language_info": {
      "codemirror_mode": {
        "name": "ipython",
        "version": 3
      },
      "file_extension": ".py",
      "mimetype": "text/x-python",
      "name": "python",
      "nbconvert_exporter": "python",
      "pygments_lexer": "ipython3",
      "version": "3.11.7"
    },
    "colab": {
      "provenance": []
    }
  },
  "nbformat": 4,
  "nbformat_minor": 0
}