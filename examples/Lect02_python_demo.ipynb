{
 "cells": [
  {
   "cell_type": "markdown",
   "metadata": {},
   "source": [
    "# Технические средства анализа данных\n",
    "\n",
    "### Полезные ссылки:\n",
    "\n",
    "<a href=\"https://www.anaconda.com/download\">Anaconda distribution</a>\n",
    "<br/><br/>\n",
    "<a href=\"https://code.visualstudio.com/docs/?dv=win64user\">VS Code</a> - VS Code IDE<br/>\n",
    "<a href=\"https://www.jetbrains.com/pycharm/\">PyCharm</a> - PyCharm  IDE<br/>\n",
    "<a href=\"https://colab.research.google.com/\">Google Colab</a> - Google Colab<br/>\n",
    "\n",
    "<br /><br />\n",
    "<a href=\"https://numpy.org/\">Numpy documentation</a><br />\n",
    "<a href=\"https://pandas.pydata.org/\">Pandas documentation</a><br />\n",
    "<a href=\"https://matplotlib.org/\">Matplotlib documentation</a>\n",
    "<a href=\"https://scikit-learn.org/stable/\">sklearn documentation</a><br />\n",
    "\n",
    "### Дополнительные материалы:\n",
    "\n",
    "[Codeium, AI-помощник в написании кода](https://codeium.com/)<br />\n",
    "AI-помощники на основе ChatGPT (ищите сами что больше нравится)<br />\n",
    "[stackoverflow](https://stackoverflow.com/)<br />\n",
    "[pythontutor](https://pythontutor.ru/)<br />\n"
   ]
  },
  {
   "cell_type": "code",
   "execution_count": 140,
   "metadata": {},
   "outputs": [
    {
     "name": "stdout",
     "output_type": "stream",
     "text": [
      "hello world!\n"
     ]
    }
   ],
   "source": [
    "print ('hello world of ML!')"
   ]
  },
  {
   "cell_type": "markdown",
   "metadata": {},
   "source": [
    "### Базовые типы данных\n",
    "\n",
    "- Числовые типы\n",
    "- Логический (boolean)\n",
    "- None\n",
    "\n",
    "Любые переменные являются объектами своих классов! \n"
   ]
  },
  {
   "cell_type": "code",
   "execution_count": null,
   "metadata": {},
   "outputs": [],
   "source": []
  },
  {
   "cell_type": "markdown",
   "metadata": {},
   "source": [
    "### Строки (str)"
   ]
  },
  {
   "cell_type": "code",
   "execution_count": 5,
   "metadata": {},
   "outputs": [],
   "source": [
    "str = 'Hello meteorology!'"
   ]
  },
  {
   "cell_type": "markdown",
   "metadata": {},
   "source": [
    "### Базовые структуры (контейнеры) данных\n",
    "\n",
    "\n",
    "- **Кортеж (tuple)** - неизменяемая упорядоченная коллекция (последовательность) элементов. \n",
    "- **Список [list]** - изменяемая упорядоченная коллеция (последовательность) элементов\n",
    "- **Множество {set}** - неупорядоченная коллекция уникальных элементов\n",
    "- **Словарь {dict}** - неупорядоченная коллекция элементов с доступом по ключу. Ключами должны быть скалярные типы (int, float, str) или кортежи."
   ]
  },
  {
   "cell_type": "code",
   "execution_count": 142,
   "metadata": {},
   "outputs": [
    {
     "data": {
      "text/plain": [
       "{0, 1, 2, 3, 4, 5, 6, 7, 8, 9}"
      ]
     },
     "execution_count": 142,
     "metadata": {},
     "output_type": "execute_result"
    }
   ],
   "source": [
    "tup = (0, 1, 2, 3, 4, 5, 6, 7, 8, 9, 9, 9)"
   ]
  },
  {
   "cell_type": "markdown",
   "metadata": {},
   "source": [
    "### Управление порядком исполнения\n",
    "- условные операторы\n",
    "- циклы\n",
    "- генераторы (например range)\n",
    "- функции"
   ]
  },
  {
   "cell_type": "code",
   "execution_count": null,
   "metadata": {},
   "outputs": [],
   "source": []
  },
  {
   "cell_type": "markdown",
   "metadata": {},
   "source": [
    "### Дата и время"
   ]
  },
  {
   "cell_type": "code",
   "execution_count": 22,
   "metadata": {},
   "outputs": [
    {
     "data": {
      "text/plain": [
       "32.865753424657534"
      ]
     },
     "metadata": {},
     "output_type": "display_data"
    }
   ],
   "source": [
    "from datetime import datetime\n",
    "\n",
    "now = datetime.now()\n",
    "\n",
    "birthday = datetime(1991, 12, 4, 0, 0, 0)\n",
    "age = now - birthday\n",
    "display(age.days / 365)\n"
   ]
  },
  {
   "cell_type": "markdown",
   "metadata": {},
   "source": [
    "### Синтаксичесий сахар \n",
    "- вычисления на списках\n",
    "- маппинг (map) - применение функции ко всем элементам перечислимого аргумента\n",
    "- лямбда-фунции\n",
    "- упаковка (zip)"
   ]
  },
  {
   "cell_type": "code",
   "execution_count": 26,
   "metadata": {},
   "outputs": [
    {
     "data": {
      "text/plain": [
       "['2010-01-01',\n",
       " '2010-02-01',\n",
       " '2010-03-01',\n",
       " '2010-04-01',\n",
       " '2010-05-01',\n",
       " '2010-06-01',\n",
       " '2010-07-01',\n",
       " '2010-08-01',\n",
       " '2010-09-01',\n",
       " '2010-10-01',\n",
       " '2010-11-01',\n",
       " '2010-12-01']"
      ]
     },
     "metadata": {},
     "output_type": "display_data"
    }
   ],
   "source": [
    "dates = [datetime(2010,x,1) for x in range(1,13)]\n",
    "#display(dates)\n",
    "display([date.strftime('%Y-%m-%d') for date in dates])"
   ]
  },
  {
   "cell_type": "code",
   "execution_count": 11,
   "metadata": {},
   "outputs": [
    {
     "name": "stdout",
     "output_type": "stream",
     "text": [
      "0 hello0\n",
      "1 hello1\n",
      "2 hello2\n",
      "3 hello3\n",
      "4 hello4\n",
      "5 hello5\n",
      "6 hello6\n",
      "7 hello7\n",
      "8 hello8\n",
      "9 hello9\n"
     ]
    }
   ],
   "source": [
    "numbers = list (range(0,10))\n",
    "\n",
    "words1 = ['hello' + str(n) for n in numbers]\n",
    "\n",
    "for n, word in zip (numbers, words):\n",
    "    print (n, word)\n",
    "\n",
    "#for n, word in enumerate (words):\n",
    "#    print (n, word)\n"
   ]
  },
  {
   "cell_type": "code",
   "execution_count": 12,
   "metadata": {},
   "outputs": [
    {
     "data": {
      "text/plain": [
       "['hello0',\n",
       " 'hello1',\n",
       " 'hello2',\n",
       " 'hello3',\n",
       " 'hello4',\n",
       " 'hello5',\n",
       " 'hello6',\n",
       " 'hello7',\n",
       " 'hello8',\n",
       " 'hello9']"
      ]
     },
     "execution_count": 12,
     "metadata": {},
     "output_type": "execute_result"
    }
   ],
   "source": [
    "words1 = map (lambda n: 'hello' + str(n), numbers)\n",
    "#words1 = map (lambda n: 'hello' + ''.join ([str(nn) for nn in range(n+1)]), numbers)\n",
    "list(words1)"
   ]
  },
  {
   "cell_type": "markdown",
   "metadata": {},
   "source": [
    "### Чуть-чуть Numpy и случайных чисел"
   ]
  },
  {
   "cell_type": "code",
   "execution_count": 124,
   "metadata": {},
   "outputs": [
    {
     "data": {
      "text/plain": [
       "0.5134493669062629"
      ]
     },
     "metadata": {},
     "output_type": "display_data"
    },
    {
     "data": {
      "text/plain": [
       "0.041397297806826924"
      ]
     },
     "metadata": {},
     "output_type": "display_data"
    },
    {
     "data": {
      "text/plain": [
       "0.28944716078285043"
      ]
     },
     "metadata": {},
     "output_type": "display_data"
    },
    {
     "data": {
      "text/plain": [
       "0.9434921621742637"
      ]
     },
     "metadata": {},
     "output_type": "display_data"
    }
   ],
   "source": [
    "import numpy as np\n",
    "\n",
    "#np.random.seed(None)\n",
    "arr1 = np.random.rand(10,10) #uniform distribution\n",
    "arr2 = np.random.normal(size=(10,10)) #normal distribution\n",
    "\n",
    "#display(arr1)\n",
    "#display(arr2)\n",
    "\n",
    "display(arr1.mean())\n",
    "display(arr2.mean())\n",
    "\n",
    "display(arr1.std())\n",
    "display(arr2.std())"
   ]
  },
  {
   "cell_type": "markdown",
   "metadata": {},
   "source": [
    "### Случайное блуждание и наш первый график"
   ]
  },
  {
   "cell_type": "code",
   "execution_count": 139,
   "metadata": {},
   "outputs": [
    {
     "data": {
      "text/plain": [
       "[<matplotlib.lines.Line2D at 0x27d96b63750>]"
      ]
     },
     "execution_count": 139,
     "metadata": {},
     "output_type": "execute_result"
    },
    {
     "data": {
      "image/png": "[encoded data removed]",
      "text/plain": [
       "<Figure size 640x480 with 1 Axes>"
      ]
     },
     "metadata": {},
     "output_type": "display_data"
    }
   ],
   "source": [
    "from matplotlib import pyplot as plt\n",
    "\n",
    "steps = np.random.normal(size=1000)\n",
    "\n",
    "pos = np.cumsum(steps)\n",
    "\n",
    "plt.figure()\n",
    "plt.plot (pos)\n",
    "plt.plot (np.convolve(pos, np.ones(50)/50, 'same'))\n"
   ]
  }
 ],
 "metadata": {
  "kernelspec": {
   "display_name": "base",
   "language": "python",
   "name": "python3"
  },
  "language_info": {
   "codemirror_mode": {
    "name": "ipython",
    "version": 3
   },
   "file_extension": ".py",
   "mimetype": "text/x-python",
   "name": "python",
   "nbconvert_exporter": "python",
   "pygments_lexer": "ipython3",
   "version": "3.11.7"
  }
 },
 "nbformat": 4,
 "nbformat_minor": 2
}
