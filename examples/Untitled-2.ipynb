{
 "cells": [
  {
   "cell_type": "code",
   "execution_count": 1,
   "metadata": {},
   "outputs": [
    {
     "name": "stderr",
     "output_type": "stream",
     "text": [
      "MovieWriter ffmpeg unavailable; using Pillow instead.\n"
     ]
    },
    {
     "data": {
      "image/png": "[encoded data removed]",
      "text/plain": [
       "<Figure size 600x200 with 2 Axes>"
      ]
     },
     "metadata": {},
     "output_type": "display_data"
    }
   ],
   "source": [
    "\n",
    "import matplotlib.pyplot as plt\n",
    "import numpy as np\n",
    "\n",
    "import matplotlib.animation as animation\n",
    "from matplotlib.patches import ConnectionPatch\n",
    "\n",
    "#%matplotlib ipympl \n",
    "\n",
    "fig, (axl, axr) = plt.subplots(\n",
    "    ncols=2,\n",
    "    sharey=True,\n",
    "    figsize=(6, 2),\n",
    "    gridspec_kw=dict(width_ratios=[1, 3], wspace=0),\n",
    ")\n",
    "axl.set_aspect(1)\n",
    "axr.set_box_aspect(1 / 3)\n",
    "axr.yaxis.set_visible(False)\n",
    "axr.xaxis.set_ticks([0, np.pi, 2 * np.pi], [\"0\", r\"$\\pi$\", r\"$2\\pi$\"])\n",
    "\n",
    "# draw circle with initial point in left Axes\n",
    "x = np.linspace(0, 2 * np.pi, 50)\n",
    "axl.plot(np.cos(x), np.sin(x), \"k\", lw=0.3)\n",
    "point, = axl.plot(0, 0, \"o\")\n",
    "\n",
    "# draw full curve to set view limits in right Axes\n",
    "sine, = axr.plot(x, np.sin(x))\n",
    "\n",
    "# draw connecting line between both graphs\n",
    "con = ConnectionPatch(\n",
    "    (1, 0),\n",
    "    (0, 0),\n",
    "    \"data\",\n",
    "    \"data\",\n",
    "    axesA=axl,\n",
    "    axesB=axr,\n",
    "    color=\"C0\",\n",
    "    ls=\"dotted\",\n",
    ")\n",
    "fig.add_artist(con)\n",
    "\n",
    "\n",
    "def animate(i):\n",
    "    x = np.linspace(0, i, int(i * 25 / np.pi))\n",
    "    sine.set_data(x, np.sin(x))\n",
    "    x, y = np.cos(i), np.sin(i)\n",
    "    point.set_data([x], [y])\n",
    "    con.xy1 = x, y\n",
    "    con.xy2 = i, y\n",
    "    return point, sine, con\n",
    "\n",
    "\n",
    "ani = animation.FuncAnimation(\n",
    "    fig,\n",
    "    animate,\n",
    "    interval=50,\n",
    "    blit=False,  # blitting can't be used with Figure artists\n",
    "    frames=x,\n",
    "    repeat_delay=100,\n",
    ")\n",
    "\n",
    "#plt.show()\n",
    "ani.save('animation.gif') #, writer='imagemagick')\n",
    "\n",
    "\n"
   ]
  }
 ],
 "metadata": {
  "kernelspec": {
   "display_name": "ML",
   "language": "python",
   "name": "python3"
  },
  "language_info": {
   "codemirror_mode": {
    "name": "ipython",
    "version": 3
   },
   "file_extension": ".py",
   "mimetype": "text/x-python",
   "name": "python",
   "nbconvert_exporter": "python",
   "pygments_lexer": "ipython3",
   "version": "3.12.3"
  }
 },
 "nbformat": 4,
 "nbformat_minor": 2
}
